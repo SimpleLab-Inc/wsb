{
 "cells": [
  {
   "cell_type": "markdown",
   "id": "3b56256e",
   "metadata": {},
   "source": [
    "This code explores the relationship between the state WSB data and the SDWIS data.\n",
    "\n",
    "Updated 3/18/22"
   ]
  },
  {
   "cell_type": "markdown",
   "id": "b18bc9f7",
   "metadata": {},
   "source": [
    "Make a dataframe comparing percentages of pwsid matching between WSB and SDWIS data and displaying pwsid duplicate counts for states with staged WSB data."
   ]
  },
  {
   "cell_type": "code",
   "execution_count": 32,
   "id": "208ee0ac",
   "metadata": {},
   "outputs": [],
   "source": [
    "import geopandas as gpd\n",
    "import pandas as pd\n",
    "import os\n",
    "from dotenv import load_dotenv"
   ]
  },
  {
   "cell_type": "code",
   "execution_count": 33,
   "id": "505df1cd",
   "metadata": {},
   "outputs": [],
   "source": [
    "# File path and data import\n",
    "load_dotenv()\n",
    "\n",
    "staging_path = os.environ[\"WSB_STAGING_PATH\"]"
   ]
  },
  {
   "cell_type": "code",
   "execution_count": 34,
   "id": "77ee05a9",
   "metadata": {},
   "outputs": [],
   "source": [
    "# Helper: Divides and returns a percent\n",
    "\n",
    "def get_pc(num, denom):\n",
    "    return round((num/denom)*100, 1)"
   ]
  },
  {
   "cell_type": "code",
   "execution_count": 35,
   "id": "b53a86ae",
   "metadata": {},
   "outputs": [],
   "source": [
    "# get list of paths/filenames for staged state wsb data\n",
    "staging_geojson_list = []\n",
    "for dirpath, dirnames, filenames in os.walk(staging_path):\n",
    "    for filename in [f for f in filenames if f.endswith(\"_wsb_labeled.geojson\")]:\n",
    "        staging_geojson_list.append(os.path.join(filename[:2], filename))\n",
    "\n",
    "nested_list = []"
   ]
  },
  {
   "cell_type": "code",
   "execution_count": 36,
   "id": "423f98bd",
   "metadata": {},
   "outputs": [
    {
     "name": "stderr",
     "output_type": "stream",
     "text": [
      "/var/folders/4w/zhsn7cr924bdcsncw_23jrf80000gn/T/ipykernel_48978/2437291838.py:2: DtypeWarning: Columns (32,34,38) have mixed types. Specify dtype option on import or set low_memory=False.\n",
      "  sdwis = pd.read_csv(os.path.join(staging_path, 'sdwis_water_system.csv'))\n"
     ]
    }
   ],
   "source": [
    "# read in sdwis data\n",
    "sdwis = pd.read_csv(os.path.join(staging_path, 'sdwis_water_system.csv'))"
   ]
  },
  {
   "cell_type": "code",
   "execution_count": 37,
   "id": "3db0e9f6",
   "metadata": {},
   "outputs": [
    {
     "name": "stdout",
     "output_type": "stream",
     "text": [
      "Comparing WSB and SDWIS data for 12 states...\n",
      "\n"
     ]
    }
   ],
   "source": [
    "print(f'Comparing WSB and SDWIS data for {len(staging_geojson_list)} states...\\n')\n",
    "\n",
    "# compare wsb staging data with sdwis\n",
    "for staging_file in staging_geojson_list:\n",
    "        \n",
    "    # read in staged state wsb data\n",
    "    # select state from sdwis data\n",
    "    state_wsb = gpd.read_file(os.path.join(staging_path, staging_file))\n",
    "    state = staging_file[:2].upper()\n",
    "    state_sdwis = sdwis[sdwis['primacy_agency_code'] == state]\n",
    "        \n",
    "    # df id columns\n",
    "    id_wsb = state_wsb['pwsid']\n",
    "    id_sdwis = state_sdwis['pwsid']\n",
    "\n",
    "    # df lengths\n",
    "    len_wsb = len(state_wsb)\n",
    "    len_sdwis = len(state_sdwis)\n",
    "\n",
    "    # wsb id % matching to sdwis id\n",
    "    wsb_matching_to_sdwis = len(state_wsb[state_wsb['pwsid'].isin(id_sdwis)])\n",
    "\n",
    "    # sdwis id % matching to wsb id\n",
    "    sdwis_matching_to_wsb = len(state_sdwis[state_sdwis['pwsid'].isin(id_wsb)])\n",
    "        \n",
    "    nested_list.append([state,\n",
    "                        get_pc(wsb_matching_to_sdwis, len_wsb),\n",
    "                        get_pc(sdwis_matching_to_wsb, len_sdwis),\n",
    "                        get_pc(len_wsb, len_sdwis),\n",
    "                        len(id_wsb) - len(set(id_wsb)),\n",
    "                        len(id_sdwis) - len(set(id_sdwis))])\n",
    "        \n",
    "wsb_sdwis_matches = pd.DataFrame(nested_list, \n",
    "                                 columns=['state', \n",
    "                                          '% WSB IDs matching to SDWIS IDs',\n",
    "                                          '% SDWIS IDs matching to WSB IDs',\n",
    "                                          'WSB is % size of SDWIS', \n",
    "                                          'WSB dup IDs', 'SDWIS dup IDs'])"
   ]
  },
  {
   "cell_type": "code",
   "execution_count": 38,
   "id": "f6aec9dc",
   "metadata": {},
   "outputs": [
    {
     "data": {
      "text/html": [
       "<div>\n",
       "<style scoped>\n",
       "    .dataframe tbody tr th:only-of-type {\n",
       "        vertical-align: middle;\n",
       "    }\n",
       "\n",
       "    .dataframe tbody tr th {\n",
       "        vertical-align: top;\n",
       "    }\n",
       "\n",
       "    .dataframe thead th {\n",
       "        text-align: right;\n",
       "    }\n",
       "</style>\n",
       "<table border=\"1\" class=\"dataframe\">\n",
       "  <thead>\n",
       "    <tr style=\"text-align: right;\">\n",
       "      <th></th>\n",
       "      <th>state</th>\n",
       "      <th>% WSB IDs matching to SDWIS IDs</th>\n",
       "      <th>% SDWIS IDs matching to WSB IDs</th>\n",
       "      <th>WSB is % size of SDWIS</th>\n",
       "      <th>WSB dup IDs</th>\n",
       "      <th>SDWIS dup IDs</th>\n",
       "    </tr>\n",
       "  </thead>\n",
       "  <tbody>\n",
       "    <tr>\n",
       "      <th>0</th>\n",
       "      <td>MO</td>\n",
       "      <td>100.0</td>\n",
       "      <td>4.1</td>\n",
       "      <td>4.2</td>\n",
       "      <td>1</td>\n",
       "      <td>0</td>\n",
       "    </tr>\n",
       "    <tr>\n",
       "      <th>1</th>\n",
       "      <td>OK</td>\n",
       "      <td>99.9</td>\n",
       "      <td>12.7</td>\n",
       "      <td>12.7</td>\n",
       "      <td>0</td>\n",
       "      <td>0</td>\n",
       "    </tr>\n",
       "    <tr>\n",
       "      <th>2</th>\n",
       "      <td>CA</td>\n",
       "      <td>99.3</td>\n",
       "      <td>26.6</td>\n",
       "      <td>26.8</td>\n",
       "      <td>6</td>\n",
       "      <td>0</td>\n",
       "    </tr>\n",
       "    <tr>\n",
       "      <th>3</th>\n",
       "      <td>CT</td>\n",
       "      <td>99.4</td>\n",
       "      <td>4.6</td>\n",
       "      <td>4.8</td>\n",
       "      <td>11</td>\n",
       "      <td>0</td>\n",
       "    </tr>\n",
       "    <tr>\n",
       "      <th>4</th>\n",
       "      <td>TX</td>\n",
       "      <td>100.0</td>\n",
       "      <td>28.8</td>\n",
       "      <td>28.8</td>\n",
       "      <td>0</td>\n",
       "      <td>0</td>\n",
       "    </tr>\n",
       "    <tr>\n",
       "      <th>5</th>\n",
       "      <td>PA</td>\n",
       "      <td>99.9</td>\n",
       "      <td>8.0</td>\n",
       "      <td>8.0</td>\n",
       "      <td>3</td>\n",
       "      <td>0</td>\n",
       "    </tr>\n",
       "    <tr>\n",
       "      <th>6</th>\n",
       "      <td>NC</td>\n",
       "      <td>97.4</td>\n",
       "      <td>2.3</td>\n",
       "      <td>2.3</td>\n",
       "      <td>0</td>\n",
       "      <td>0</td>\n",
       "    </tr>\n",
       "    <tr>\n",
       "      <th>7</th>\n",
       "      <td>NM</td>\n",
       "      <td>100.0</td>\n",
       "      <td>22.6</td>\n",
       "      <td>23.0</td>\n",
       "      <td>11</td>\n",
       "      <td>0</td>\n",
       "    </tr>\n",
       "    <tr>\n",
       "      <th>8</th>\n",
       "      <td>NJ</td>\n",
       "      <td>100.0</td>\n",
       "      <td>4.0</td>\n",
       "      <td>4.0</td>\n",
       "      <td>2</td>\n",
       "      <td>0</td>\n",
       "    </tr>\n",
       "    <tr>\n",
       "      <th>9</th>\n",
       "      <td>KS</td>\n",
       "      <td>99.6</td>\n",
       "      <td>46.9</td>\n",
       "      <td>47.5</td>\n",
       "      <td>9</td>\n",
       "      <td>0</td>\n",
       "    </tr>\n",
       "    <tr>\n",
       "      <th>10</th>\n",
       "      <td>AZ</td>\n",
       "      <td>100.0</td>\n",
       "      <td>22.4</td>\n",
       "      <td>22.5</td>\n",
       "      <td>1</td>\n",
       "      <td>0</td>\n",
       "    </tr>\n",
       "    <tr>\n",
       "      <th>11</th>\n",
       "      <td>WA</td>\n",
       "      <td>75.6</td>\n",
       "      <td>30.2</td>\n",
       "      <td>40.4</td>\n",
       "      <td>45</td>\n",
       "      <td>0</td>\n",
       "    </tr>\n",
       "  </tbody>\n",
       "</table>\n",
       "</div>"
      ],
      "text/plain": [
       "   state  % WSB IDs matching to SDWIS IDs  % SDWIS IDs matching to WSB IDs  \\\n",
       "0     MO                            100.0                              4.1   \n",
       "1     OK                             99.9                             12.7   \n",
       "2     CA                             99.3                             26.6   \n",
       "3     CT                             99.4                              4.6   \n",
       "4     TX                            100.0                             28.8   \n",
       "5     PA                             99.9                              8.0   \n",
       "6     NC                             97.4                              2.3   \n",
       "7     NM                            100.0                             22.6   \n",
       "8     NJ                            100.0                              4.0   \n",
       "9     KS                             99.6                             46.9   \n",
       "10    AZ                            100.0                             22.4   \n",
       "11    WA                             75.6                             30.2   \n",
       "\n",
       "    WSB is % size of SDWIS  WSB dup IDs  SDWIS dup IDs  \n",
       "0                      4.2            1              0  \n",
       "1                     12.7            0              0  \n",
       "2                     26.8            6              0  \n",
       "3                      4.8           11              0  \n",
       "4                     28.8            0              0  \n",
       "5                      8.0            3              0  \n",
       "6                      2.3            0              0  \n",
       "7                     23.0           11              0  \n",
       "8                      4.0            2              0  \n",
       "9                     47.5            9              0  \n",
       "10                    22.5            1              0  \n",
       "11                    40.4           45              0  "
      ]
     },
     "execution_count": 38,
     "metadata": {},
     "output_type": "execute_result"
    }
   ],
   "source": [
    "wsb_sdwis_matches"
   ]
  },
  {
   "cell_type": "code",
   "execution_count": null,
   "id": "e83e6a1e",
   "metadata": {},
   "outputs": [],
   "source": []
  }
 ],
 "metadata": {
  "kernelspec": {
   "display_name": "Python 3 (ipykernel)",
   "language": "python",
   "name": "python3"
  },
  "language_info": {
   "codemirror_mode": {
    "name": "ipython",
    "version": 3
   },
   "file_extension": ".py",
   "mimetype": "text/x-python",
   "name": "python",
   "nbconvert_exporter": "python",
   "pygments_lexer": "ipython3",
   "version": "3.9.4"
  }
 },
 "nbformat": 4,
 "nbformat_minor": 5
}
